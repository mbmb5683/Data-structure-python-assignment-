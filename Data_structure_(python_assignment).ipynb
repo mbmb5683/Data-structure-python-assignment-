{
  "nbformat": 4,
  "nbformat_minor": 0,
  "metadata": {
    "colab": {
      "provenance": []
    },
    "kernelspec": {
      "name": "python3",
      "display_name": "Python 3"
    },
    "language_info": {
      "name": "python"
    }
  },
  "cells": [
    {
      "cell_type": "markdown",
      "source": [
        "#                **Data Structure(python assignment)**"
      ],
      "metadata": {
        "id": "KNjMtZBQTR3b"
      }
    },
    {
      "cell_type": "markdown",
      "source": [
        "#                    ** Theory Question **"
      ],
      "metadata": {
        "id": "0xje2jIfTR01"
      }
    },
    {
      "cell_type": "markdown",
      "source": [
        "1. What are data structure and why they are important?\n",
        "2. Explain the difference between mutable and immutable data types with\n",
        "   example.\n",
        "3. What are the main difference between list and tuples in python?\n",
        "4. Describe how dictionaries store data.\n",
        "5. Why might you use set instead of list in python?\n",
        "6. What is string in python , and how it is different from list?\n",
        "7. How do tuples ensure data integrity in python?\n",
        "8. What is hash table , and how it is related to dictionaries in python?\n",
        "9. Can list contain different data types in python?\n",
        "10. Expalin why strings are immutalbe in python .\n",
        "11. What advantages do dictionaries offers over list for certin task ?\n",
        "12. Describe a scenario where using a tuple would be preferable over a\n",
        "    list.\n",
        "13. How do sets handle duplicate values in python ?\n",
        "14. How does the \"in\" keyword works differently for lists and\n",
        "    dictionaries?\n",
        "15. Can you modify the elemets of tuple? Explain why or why not.\n",
        "16. What is a nested dictionaries,and give an example of its use case.\n",
        "17. Describe the time complexity of accessing elements in a dictionary.\n",
        "18. In what situations are lists preffered over dictionaries?\n",
        "19. Why are ditionaries considered unordered,and how does that affect   \n",
        "    the data retrival?\n",
        "20. Explain the difference between a list and a dictionary in terms of\n",
        "    data retrival?\n",
        "\n",
        "\n"
      ],
      "metadata": {
        "id": "PNe0sRaCTRyL"
      }
    },
    {
      "cell_type": "markdown",
      "source": [
        "#                         **Answer**"
      ],
      "metadata": {
        "id": "JQR3BvX5ZDW_"
      }
    },
    {
      "cell_type": "markdown",
      "source": [
        "1. Data structure: Data structure is a way in which we can store the variety of data. It's a way to organise the data in a proper way so that we can access it properly and efficiently.\n",
        "\n",
        "        It is important because in string we cannot store the variety of data a same time so we use data structues to store the variety of at the same time and with the help of data structue we an access the variety of data efficiently and proper way.\n",
        "\n",
        "\n",
        "2. Difference between Mutable and Immutable data types:\n",
        "\n",
        "    1. Mutable Datatypes: As we can undestand by the name olny that\n",
        "       muatble data types means we can modify/change the data types.\n",
        "\n",
        "       for example:\n",
        "                    1. List\n",
        "                    2. set\n",
        "                    3. Dictionary\n",
        "\n",
        "    2. Immutable datatypes: As we already know immutable means that we\n",
        "       cannot modify/change the data types after the creation.\n",
        "\n",
        "       for example:\n",
        "                  1. Interger\n",
        "                  2. String\n",
        "                  3. Tuple\n",
        "                  4. Float\n",
        "\n",
        "\n",
        "3. Main difference between List and Tuple:\n",
        "\n",
        "      \n",
        "      1. List: List are the ordered and mutable data structure.\n",
        "      2. Tuple: Tuple are ordered and immutable data structure.\n",
        "\n",
        "      This can be the main difference between list and tuple data structure.\n",
        "\n",
        "\n",
        "4. Dictionaries: As we all know that dictionaries is one of the data    \n",
        "   structure that is used to store the variety of data in the block of memory and the most important thing is that dictonaries store the data in key:value pair where keys are unique and immuatble and values are immutable.\n",
        "                      This is how dictionaries store the data.\n",
        "\n",
        "\n",
        "5. We use set insted of list because:\n",
        "\n",
        "\n",
        "    1. List: List allows duplicates of elements\n",
        "             List doesn't allows mathematical operations like union, intersecton , difference, symmetric_difference.\n",
        "             list are slower than set because list allows duplicates.\n",
        "\n",
        "    2. Set: Set doesn't allow duplicates of elements it means that it\n",
        "            is uniqueness.\n",
        "\n",
        "            set allows mathematical operation like: union , intersection , difference, symmetric_difference.\n",
        "\n",
        "            sets are faster than list to access the elements due to it's uniqueness.\n",
        "\n",
        "\n",
        "6. String: String is a sequence of character in python and the are immutable once the string is created then we cannot change it .\n",
        "whereas list are mutable it means we can change/modify the values after the creation.\n",
        "\n",
        "\n",
        "\n",
        "7. Tuple ensure data integrity means as we all know that tuples are immutable once it is created we cannot change, add , remove the elements of tuple it means that once that tuple is created no one can change it so it means it prevents from accidental change. so we can say that tuples ensures data integrity in python.\n",
        "\n",
        "\n",
        "\n",
        "8. Hash Table: Hash table is a data sturucture which maps that keys to the valuse for lookup, insertion , deletion of values.\n",
        "      and python dictionaries uses hash hath table .when we create a dictionary and add key-values pair  dictionaries use hash function to calculate the hash value for keys. and this hash value determines the key-value pair is stored.\n",
        "      This is how hash table works in dictonaries.\n",
        "\n",
        "\n",
        "\n",
        "9. yes , list can contain different types of data in it .\n",
        "\n",
        "for example:\n",
        "\n",
        "       list= [1, 2, \"mohit\", 4+6j, True, 4.5, 2]\n",
        "       print(list)\n",
        "\n",
        "       o/p:- [1,2,'mohit',4+6j,True,4.5,2]\n",
        "\n",
        "\n",
        "\n",
        "10. String are immutable because it provides the data integrity to the data and once the string is created we cannot change the string. if we use some operation to change the string then in that case we get a new string after the operation but in older string we see nothing have been changed so this shows that string are immutable and ensures in data integrity.\n",
        "\n",
        "\n",
        "\n",
        "11. Dictionaries provide a better advantages than a list because in dictonaries data's are stored in key-pair values and duplicates of keys are allowed but last occurence of that key's value will be shown in output it means it updates itself.\n",
        "\n",
        "but in case of list , list also allows the duplicates of items but it does not support auto update. it will execute all the elements in the output.\n",
        "\n",
        "\n",
        "\n",
        "12. As we all know that tuple are immutable and ordered data structure where as list are mutable and ordered data sturcture .\n",
        "Now let's understand with real life based example, why sometimes we prefer tuple over list.\n",
        "\n",
        "we cannot change the employee__id, adhar number, atm number, account noumber they are permanent once they are created it means they are fixed we cannot change it and tuples are immutable and list are mutable and that is why we perefer tuple sometimes over list.\n",
        "\n",
        "\n",
        "\n",
        "13. As we all know that set does not allow duplicates of the elements/items means it conatains on unique elements in it it means that all the duplicate elements in the stes are deleted and we get only the unique elements in the set . This is how sets manages the duplicates.\n",
        "\n",
        " for example:\n",
        "   s={1,2,3,1,3,224,53,1,1,1,1,}\n",
        "   s\n",
        "   o/p:- {1,2,3,224,53}\n",
        "\n",
        "\n",
        "\n",
        "14. List:\n",
        "\n",
        "      l= [1,2,3,41,1,3]\n",
        "      2 in l\n",
        "\n",
        "      o/p: True\n",
        "\n",
        "    Dictionary:\n",
        "      \n",
        "      my_dict= {\"name\":\"Mohit\", \"email\":\"mr@gmail.com\", \"contact\":1234}\n",
        "      print('name' in my_dict)\n",
        "      print('Mohit' in my_dict)\n",
        "              \n",
        "\n",
        "This is how \"in\" works in list and dictionary.\n",
        "\n",
        "\n",
        "\n",
        "15. We cannot modify the elements of tuple because tuples are immutable if we try to change then it will through an error \"tuple object does not support item assignment\".\n",
        "\n",
        "\n",
        "16. Nested Dictionary: Nested dictionary means a dictionary inside Dictionary.\n",
        "\n",
        "for example:\n",
        "\n",
        "my_dict={\n",
        "  \"person1\":{\n",
        "    \"name\":\"raj\",\n",
        "    \"age\":25,\n",
        "    \"city\":\"bhopal\"\n",
        "  },\n",
        "  \"person2\":{\n",
        "    \"name\":\"akash\",\n",
        "    \"age\":22,\n",
        "    \"city\":\"patna\"\n",
        "  },\n",
        "  \"person3\":{\n",
        "    \"name\":\"aman\",\n",
        "    \"age\":35,\n",
        "    \"city\":\"vidisha\"\n",
        "\n",
        "  }\n",
        "}\n",
        "\n",
        "\n",
        "\n",
        "  \n",
        "17. The time complexity of accessing element in dictionay is o(1).\n",
        "\n",
        "\n",
        "18. When we have to access the elements of data structure with the help of their index number then in that case we can use list rather than using dictionary because in list indexing is possible where as in dictionaries data's are store in key-valuse pair so here values are accessed using key's.\n",
        "\n",
        "\n",
        "19. Earlier dictionaries are unordered because using of hash table and data are stored based on hash value. internally data's are stored in unordered way and running the same code siultanieously aur in different python version order may change so dictionary are called unordered.\n",
        "\n",
        "\n",
        "but now a days python 3.7+ version python community have changes somthing now dictionaries are ordered and still they are based on hash table.\n",
        "\n",
        "\n",
        "\n",
        "20. In terms of data retrival in list data are retrived based on their index number where as in dictionary values are retrived based on their key's. This is how data retrival is done in list and dictionary."
      ],
      "metadata": {
        "id": "k8Y8gN7wexz7"
      }
    },
    {
      "cell_type": "markdown",
      "source": [
        "#                       **Practical Question**"
      ],
      "metadata": {
        "id": "00bmCjf57-03"
      }
    },
    {
      "cell_type": "code",
      "execution_count": null,
      "metadata": {
        "colab": {
          "base_uri": "https://localhost:8080/"
        },
        "id": "vyXKiE4YIzqg",
        "outputId": "b9599626-087b-4ae2-c781-f71532af18f5"
      },
      "outputs": [
        {
          "output_type": "stream",
          "name": "stdout",
          "text": [
            "mohit\n"
          ]
        }
      ],
      "source": [
        "# Q1.Write a code to create a string with your name and print it.\n",
        "\n",
        "name=\"mohit\"\n",
        "print(name)"
      ]
    },
    {
      "cell_type": "code",
      "source": [
        "# Q2.Write a code to print the lenth of the strig \"Hello World\"\n",
        "\n",
        "Str=\"Hello World\"\n",
        "len(Str)"
      ],
      "metadata": {
        "colab": {
          "base_uri": "https://localhost:8080/"
        },
        "id": "F8iBWDziOh50",
        "outputId": "0d35ca0f-bd06-4b3c-b2e5-05cdcf32dd07"
      },
      "execution_count": null,
      "outputs": [
        {
          "output_type": "execute_result",
          "data": {
            "text/plain": [
              "11"
            ]
          },
          "metadata": {},
          "execution_count": 13
        }
      ]
    },
    {
      "cell_type": "code",
      "source": [
        "# Q3.Write a code to slice the first 3 characters from the string \"Python Programming\"\n",
        "\n",
        "Str=\"Python Programming\"\n",
        "Str[0:3]"
      ],
      "metadata": {
        "colab": {
          "base_uri": "https://localhost:8080/",
          "height": 36
        },
        "id": "-C_DO2098zoS",
        "outputId": "ebb39cbe-88ba-4831-f2cd-c7bbef5899f8"
      },
      "execution_count": null,
      "outputs": [
        {
          "output_type": "execute_result",
          "data": {
            "text/plain": [
              "'Pyt'"
            ],
            "application/vnd.google.colaboratory.intrinsic+json": {
              "type": "string"
            }
          },
          "metadata": {},
          "execution_count": 15
        }
      ]
    },
    {
      "cell_type": "code",
      "source": [
        "# Q4. Write a code to convert the string \"hello\" in uppercase.\n",
        "\n",
        "Str= \"hello\"\n",
        "Str.upper()\n"
      ],
      "metadata": {
        "colab": {
          "base_uri": "https://localhost:8080/",
          "height": 36
        },
        "id": "GBP4XkGR9QTe",
        "outputId": "6075a49d-a214-4ab0-d083-70d03f2481fa"
      },
      "execution_count": null,
      "outputs": [
        {
          "output_type": "execute_result",
          "data": {
            "text/plain": [
              "'HELLO'"
            ],
            "application/vnd.google.colaboratory.intrinsic+json": {
              "type": "string"
            }
          },
          "metadata": {},
          "execution_count": 16
        }
      ]
    },
    {
      "cell_type": "code",
      "source": [
        "# Q5. Write a code to replace the word \"apple\"  with \"orange\" from the string \" i like apple\"\n",
        "\n",
        "Str=\"i like apple\"\n",
        "Str.replace(\"apple\", \"orange\")"
      ],
      "metadata": {
        "colab": {
          "base_uri": "https://localhost:8080/",
          "height": 36
        },
        "id": "th44p2-79rMg",
        "outputId": "1899282d-53d7-44ab-d489-c663afe0388a"
      },
      "execution_count": null,
      "outputs": [
        {
          "output_type": "execute_result",
          "data": {
            "text/plain": [
              "'i like orange'"
            ],
            "application/vnd.google.colaboratory.intrinsic+json": {
              "type": "string"
            }
          },
          "metadata": {},
          "execution_count": 17
        }
      ]
    },
    {
      "cell_type": "code",
      "source": [
        "# Q6. Write a code to create a list with numbers 1 to 5 nd print it.\n",
        "\n",
        "lis= [1,2,3,4,5]\n",
        "print(lis)"
      ],
      "metadata": {
        "colab": {
          "base_uri": "https://localhost:8080/"
        },
        "id": "vWB3c1si-A4W",
        "outputId": "1766ba84-d7cf-4807-aa25-1ba0a1c14d83"
      },
      "execution_count": null,
      "outputs": [
        {
          "output_type": "stream",
          "name": "stdout",
          "text": [
            "[1, 2, 3, 4, 5]\n"
          ]
        }
      ]
    },
    {
      "cell_type": "code",
      "source": [
        "# Q7. Write a code to append 10 in the list [1,2,3,4].\n",
        "\n",
        "lis= [1,2,3,4]\n",
        "lis.append(10)\n",
        "lis"
      ],
      "metadata": {
        "colab": {
          "base_uri": "https://localhost:8080/"
        },
        "id": "YSmm_xXY-eK2",
        "outputId": "eeb79d10-0f9b-42f7-d181-0f291ade2918"
      },
      "execution_count": null,
      "outputs": [
        {
          "output_type": "execute_result",
          "data": {
            "text/plain": [
              "[1, 2, 3, 4, 10]"
            ]
          },
          "metadata": {},
          "execution_count": 21
        }
      ]
    },
    {
      "cell_type": "code",
      "source": [
        "# Q8. Write a code to remove 3 in the list [1,2,3,4,5].\n",
        "\n",
        "lis= [1,2,3,4,5]\n",
        "lis.remove(3)\n",
        "lis"
      ],
      "metadata": {
        "colab": {
          "base_uri": "https://localhost:8080/"
        },
        "id": "PNve0Kp8-zRr",
        "outputId": "d2be2820-a71f-43bb-af04-24322fb1dd7b"
      },
      "execution_count": null,
      "outputs": [
        {
          "output_type": "execute_result",
          "data": {
            "text/plain": [
              "[1, 2, 4, 5]"
            ]
          },
          "metadata": {},
          "execution_count": 22
        }
      ]
    },
    {
      "cell_type": "code",
      "source": [
        "# Q9. Write a code to access the second element fron the list ['a','b','c','d'].\n",
        "\n",
        "lis= ['a','b','c','d']\n",
        "lis[1]"
      ],
      "metadata": {
        "colab": {
          "base_uri": "https://localhost:8080/",
          "height": 36
        },
        "id": "zZCarjkg_Q1T",
        "outputId": "f89cbf78-dc38-424b-8038-90a2d22ac10e"
      },
      "execution_count": null,
      "outputs": [
        {
          "output_type": "execute_result",
          "data": {
            "text/plain": [
              "'b'"
            ],
            "application/vnd.google.colaboratory.intrinsic+json": {
              "type": "string"
            }
          },
          "metadata": {},
          "execution_count": 24
        }
      ]
    },
    {
      "cell_type": "code",
      "source": [
        "# 10. write a code to reverse the list [10,20,30,40,50].\n",
        "\n",
        "lis=[10,20,30,40,50]\n",
        "lis[::-1]"
      ],
      "metadata": {
        "colab": {
          "base_uri": "https://localhost:8080/"
        },
        "id": "6EK59Ska_j72",
        "outputId": "0a3f4f5f-8c75-4ddd-f3c0-22c8f0bafc57"
      },
      "execution_count": null,
      "outputs": [
        {
          "output_type": "execute_result",
          "data": {
            "text/plain": [
              "[50, 40, 30, 20, 10]"
            ]
          },
          "metadata": {},
          "execution_count": 25
        }
      ]
    },
    {
      "cell_type": "code",
      "source": [
        "# Q11. Write a code to create a tuple with element 100,200,and 300 nd print it.\n",
        "\n",
        "t1= (100,200,300)\n",
        "print(t1)"
      ],
      "metadata": {
        "colab": {
          "base_uri": "https://localhost:8080/"
        },
        "id": "C_ie6vD3_6o1",
        "outputId": "14214f02-260d-4483-8b87-c2e6f90f9523"
      },
      "execution_count": null,
      "outputs": [
        {
          "output_type": "stream",
          "name": "stdout",
          "text": [
            "(100, 200, 300)\n"
          ]
        }
      ]
    },
    {
      "cell_type": "code",
      "source": [
        "# Q12. Write a code to access second to last element of the tuple (\"red\", \"green\",\"blue\", \"yellow\")\n",
        "\n",
        "t1=(\"red\", \"green\",\"blue\", \"yellow\")\n",
        "t1[1:]"
      ],
      "metadata": {
        "colab": {
          "base_uri": "https://localhost:8080/"
        },
        "id": "jJ5sVreSAO15",
        "outputId": "c3340f03-1156-48a4-de29-cb369eef4c88"
      },
      "execution_count": null,
      "outputs": [
        {
          "output_type": "execute_result",
          "data": {
            "text/plain": [
              "('green', 'blue', 'yellow')"
            ]
          },
          "metadata": {},
          "execution_count": 28
        }
      ]
    },
    {
      "cell_type": "code",
      "source": [
        "# Q13. write a code to find the minimum number from the tuple (10,20,5,15)\n",
        "\n",
        "t1=(10,20,5,15)\n",
        "min(t1)"
      ],
      "metadata": {
        "colab": {
          "base_uri": "https://localhost:8080/"
        },
        "id": "kQrn7RrCE9e-",
        "outputId": "157440a8-9b54-4855-94f2-bffc8663237d"
      },
      "execution_count": null,
      "outputs": [
        {
          "output_type": "execute_result",
          "data": {
            "text/plain": [
              "5"
            ]
          },
          "metadata": {},
          "execution_count": 29
        }
      ]
    },
    {
      "cell_type": "code",
      "source": [
        "# Q14. Write a code to find the index of element \"cat\" from the tuple (\"dog\",\"cat\",\"rat\")\n",
        "\n",
        "t1=(\"dog\",\"cat\",\"rat\")\n",
        "t1.index(\"cat\")"
      ],
      "metadata": {
        "colab": {
          "base_uri": "https://localhost:8080/"
        },
        "id": "5bJFwAwLFza6",
        "outputId": "2fff82b5-7267-4199-c5ab-42e7b99db8a2"
      },
      "execution_count": null,
      "outputs": [
        {
          "output_type": "execute_result",
          "data": {
            "text/plain": [
              "1"
            ]
          },
          "metadata": {},
          "execution_count": 30
        }
      ]
    },
    {
      "cell_type": "code",
      "source": [
        "# Q15. Write a code to create a tuple containing 3 different fruits and check if \"kiwi\" is in it.\n",
        "\n",
        "t1=(\"apple\",\"banana\",\"kiwi\")\n",
        "\"kiwi\" in t1"
      ],
      "metadata": {
        "colab": {
          "base_uri": "https://localhost:8080/"
        },
        "id": "erZ90Q7GGL7H",
        "outputId": "d6ad9576-864a-4309-b5ff-76133ad2d78a"
      },
      "execution_count": null,
      "outputs": [
        {
          "output_type": "execute_result",
          "data": {
            "text/plain": [
              "True"
            ]
          },
          "metadata": {},
          "execution_count": 31
        }
      ]
    },
    {
      "cell_type": "code",
      "source": [
        "# Q16. Write a code to create a set containing \"a\", \"b\", \"c\" and print it.\n",
        "\n",
        "s1={\"a\",\"b\",\"c\"}\n",
        "print(s1)"
      ],
      "metadata": {
        "colab": {
          "base_uri": "https://localhost:8080/"
        },
        "id": "we9gFsvMGYqo",
        "outputId": "dfacff51-9510-438f-b8a9-e37d3a68df6e"
      },
      "execution_count": null,
      "outputs": [
        {
          "output_type": "stream",
          "name": "stdout",
          "text": [
            "{'a', 'c', 'b'}\n"
          ]
        }
      ]
    },
    {
      "cell_type": "code",
      "source": [
        "# Q17. Write a code to clear all the element from the set {1,2,3,4,5}\n",
        "\n",
        "s1={1,2,3,4,5}\n",
        "s1.clear()\n",
        "s1"
      ],
      "metadata": {
        "colab": {
          "base_uri": "https://localhost:8080/"
        },
        "id": "ui3bQQ-LG83I",
        "outputId": "cd47e770-aab8-472b-c940-54e988fb2914"
      },
      "execution_count": null,
      "outputs": [
        {
          "output_type": "execute_result",
          "data": {
            "text/plain": [
              "set()"
            ]
          },
          "metadata": {},
          "execution_count": 35
        }
      ]
    },
    {
      "cell_type": "code",
      "source": [
        "# Q18. Write a code to remove element \"4\" in the set {1,2,3,4}.\n",
        "\n",
        "s1={1,2,3,4}\n",
        "s1.remove(4)\n",
        "s1"
      ],
      "metadata": {
        "colab": {
          "base_uri": "https://localhost:8080/"
        },
        "id": "rLFQWZ69HTDh",
        "outputId": "51485f7e-4e90-44eb-ccce-356f514821c9"
      },
      "execution_count": null,
      "outputs": [
        {
          "output_type": "execute_result",
          "data": {
            "text/plain": [
              "{1, 2, 3}"
            ]
          },
          "metadata": {},
          "execution_count": 38
        }
      ]
    },
    {
      "cell_type": "code",
      "source": [
        "# Q19. Write a code to find the union of set {1,2,3} and {3,4,5}.\n",
        "\n",
        "s1={1,2,3}\n",
        "s2={3,4,5}\n",
        "s1|s2     #   s1.union(s2)   both can be used"
      ],
      "metadata": {
        "colab": {
          "base_uri": "https://localhost:8080/"
        },
        "id": "tkVk8AUhHvGf",
        "outputId": "b032c24f-4db2-47d5-c7ae-28c392efdb9b"
      },
      "execution_count": null,
      "outputs": [
        {
          "output_type": "execute_result",
          "data": {
            "text/plain": [
              "{1, 2, 3, 4, 5}"
            ]
          },
          "metadata": {},
          "execution_count": 41
        }
      ]
    },
    {
      "cell_type": "code",
      "source": [
        "# Q20. Write a code to find the intersecton of set {1,2,3} and {2,3,4}.\n",
        "\n",
        "s1={1,2,3}\n",
        "s2={2,3,4}\n",
        "s1&s2      #  s1.intersetion(s2)  it can also be used"
      ],
      "metadata": {
        "colab": {
          "base_uri": "https://localhost:8080/"
        },
        "id": "N80PhUJ7IJ5G",
        "outputId": "5bc80079-d64d-4b4c-ac78-e7c1fc99f09c"
      },
      "execution_count": null,
      "outputs": [
        {
          "output_type": "execute_result",
          "data": {
            "text/plain": [
              "{2, 3}"
            ]
          },
          "metadata": {},
          "execution_count": 43
        }
      ]
    },
    {
      "cell_type": "code",
      "source": [
        "# Q21. Write a code to create a dictionary with the keys \"name\",\"age\",\"city\" and print it.\n",
        "\n",
        "my_dict={\"name\":\"mohit\",\"age\":23,\"city\":\"chapra\"}\n",
        "print(my_dict)"
      ],
      "metadata": {
        "colab": {
          "base_uri": "https://localhost:8080/"
        },
        "id": "Jh4r_cfiIwAN",
        "outputId": "883a3a78-bfd7-4c0e-cc38-d2a5377e0418"
      },
      "execution_count": null,
      "outputs": [
        {
          "output_type": "stream",
          "name": "stdout",
          "text": [
            "{'name': 'mohit', 'age': 23, 'city': 'chapra'}\n"
          ]
        }
      ]
    },
    {
      "cell_type": "code",
      "source": [
        "# Q22. write a code to add a key-value pair \"country\":\"USA\" to the dictionary {\"name\":\"john\",\"age\":25}\n",
        "\n",
        "my_dict={\"name\":\"john\",\"age\":25}\n",
        "my_dict[\"country\"]=\"USA\"\n",
        "print(my_dict)\n"
      ],
      "metadata": {
        "colab": {
          "base_uri": "https://localhost:8080/"
        },
        "id": "iOcr2rAZJyP8",
        "outputId": "e67c366c-b1ec-41e3-bc10-d5b59864d95b"
      },
      "execution_count": null,
      "outputs": [
        {
          "output_type": "stream",
          "name": "stdout",
          "text": [
            "{'name': 'john', 'age': 25, 'country': 'USA'}\n"
          ]
        }
      ]
    },
    {
      "cell_type": "code",
      "source": [
        "# Q23. Write a code to access the valuse associated with key \"name\" in the dictionary {\"name\": \"alice\",\"age\":30}\n",
        "\n",
        "my_dict={\"name\": \"alice\",\"age\":30}\n",
        "my_dict[\"name\"]"
      ],
      "metadata": {
        "colab": {
          "base_uri": "https://localhost:8080/",
          "height": 36
        },
        "id": "LL9eLh8FKWCP",
        "outputId": "21cedfca-aa89-4ab5-ab1a-d48b328ce3ee"
      },
      "execution_count": null,
      "outputs": [
        {
          "output_type": "execute_result",
          "data": {
            "text/plain": [
              "'alice'"
            ],
            "application/vnd.google.colaboratory.intrinsic+json": {
              "type": "string"
            }
          },
          "metadata": {},
          "execution_count": 46
        }
      ]
    },
    {
      "cell_type": "code",
      "source": [
        "# Q24. write a code to remove the key \"age\" from the dictionary {\"name\":\"bob\",\"age\":22,\"city\":\"new york\"}\n",
        "\n",
        "my_dict={\"name\":\"bob\",\"age\":22,\"city\":\"new york\"}\n",
        "my_dict.pop(\"age\")\n",
        "print(my_dict)"
      ],
      "metadata": {
        "colab": {
          "base_uri": "https://localhost:8080/"
        },
        "id": "UnevkeEzKuvV",
        "outputId": "e2e9eb33-5850-41a3-e516-cbe6c897382d"
      },
      "execution_count": null,
      "outputs": [
        {
          "output_type": "stream",
          "name": "stdout",
          "text": [
            "{'name': 'bob', 'city': 'new york'}\n"
          ]
        }
      ]
    },
    {
      "cell_type": "code",
      "source": [
        "# Q25. Write a code to check if the key \"city\" exist in the dictionary {\"name\":\"alice\",\"city\":\"paris\"}\n",
        "my_dict={\"name\":\"alice\",\"city\":\"paris\"}\n",
        "\"city\" in my_dict"
      ],
      "metadata": {
        "colab": {
          "base_uri": "https://localhost:8080/"
        },
        "id": "wI9oTtpURZYA",
        "outputId": "4edbd1be-3380-4dfd-ca4d-c10d4fa42d05"
      },
      "execution_count": null,
      "outputs": [
        {
          "output_type": "execute_result",
          "data": {
            "text/plain": [
              "True"
            ]
          },
          "metadata": {},
          "execution_count": 49
        }
      ]
    },
    {
      "cell_type": "code",
      "source": [
        "# Q26. Write a code to create a list , tuple and dictionary and print them all.\n",
        "\n",
        "lis=[1,2,\"mohit\",True,4+6j,5,2,1,3,7.55]\n",
        "tup=(1,2,\"mohit\",True,4+6j,5,2,1,3,7.55)\n",
        "my_dict={\"name\":\"mohit\",\"age\":23,\"city\":\"chapra\",\"role\":\"student\"}\n",
        "print(lis,\"\\n\",tup,\"\\n\",my_dict)"
      ],
      "metadata": {
        "colab": {
          "base_uri": "https://localhost:8080/"
        },
        "id": "3qSfOYRNR5fC",
        "outputId": "340abdd9-133a-4256-a5b0-463295d42787"
      },
      "execution_count": null,
      "outputs": [
        {
          "output_type": "stream",
          "name": "stdout",
          "text": [
            "[1, 2, 'mohit', True, (4+6j), 5, 2, 1, 3, 7.55] \n",
            " (1, 2, 'mohit', True, (4+6j), 5, 2, 1, 3, 7.55) \n",
            " {'name': 'mohit', 'age': 23, 'city': 'chapra', 'role': 'student'}\n"
          ]
        }
      ]
    },
    {
      "cell_type": "code",
      "source": [
        "# Q27. Write a code to create a list of 5 random numbers between 1 to 100, sort them all in ascending order, and print the result (replaced).\n",
        "\n",
        "lis=[45,17,99,2,6]\n",
        "print(lis)\n",
        "lis.sort()\n",
        "print(lis)      #after sorting # sorted(lis) we can also use to sort the list"
      ],
      "metadata": {
        "colab": {
          "base_uri": "https://localhost:8080/"
        },
        "id": "CWWBFnV-Sio2",
        "outputId": "7ac41771-bb9b-499e-bb07-722d3414d33a"
      },
      "execution_count": null,
      "outputs": [
        {
          "output_type": "stream",
          "name": "stdout",
          "text": [
            "[45, 17, 99, 2, 6]\n"
          ]
        },
        {
          "output_type": "execute_result",
          "data": {
            "text/plain": [
              "[2, 6, 17, 45, 99]"
            ]
          },
          "metadata": {},
          "execution_count": 58
        }
      ]
    },
    {
      "cell_type": "code",
      "source": [
        "# Q28. Write a code to create a list with strings and print the element at the third index.\n",
        "\n",
        "lis=[\"mohit\",\"apple\",\"banana\",\"khushi\", \"rohit\", \"akash\", \"kiwi\"]\n",
        "lis[3]\n"
      ],
      "metadata": {
        "colab": {
          "base_uri": "https://localhost:8080/",
          "height": 36
        },
        "id": "fG3Qt647Td6H",
        "outputId": "e422ac6e-1141-4b07-a58e-860a64674535"
      },
      "execution_count": null,
      "outputs": [
        {
          "output_type": "execute_result",
          "data": {
            "text/plain": [
              "'khushi'"
            ],
            "application/vnd.google.colaboratory.intrinsic+json": {
              "type": "string"
            }
          },
          "metadata": {},
          "execution_count": 59
        }
      ]
    },
    {
      "cell_type": "code",
      "source": [
        "# Q29.\n",
        "\n",
        "dict1 = {\"a\": 1, \"b\": 2}\n",
        "dict2 = {\"c\": 3, \"d\": 4}\n",
        "\n",
        "dict1.update(dict2)\n",
        "print(dict1)\n",
        "\n",
        "\n",
        "#sir i have a doubt in case if both the dict have same keys like..\n",
        "# my_dict1={\"name\":\"mohit\",\"age\":23,\"city\":\"chapra\"}\n",
        "# my_dict2={\"name\":\"akash\",\"age\":22,\"city\":\"patna\"}\n",
        "\n",
        "#then how we can combine them ????"
      ],
      "metadata": {
        "colab": {
          "base_uri": "https://localhost:8080/"
        },
        "id": "dLdt7-oWUt4W",
        "outputId": "99aaab89-aede-4318-82c2-9c270138d0bd"
      },
      "execution_count": null,
      "outputs": [
        {
          "output_type": "stream",
          "name": "stdout",
          "text": [
            "{'a': 1, 'b': 2, 'c': 3, 'd': 4}\n"
          ]
        }
      ]
    },
    {
      "cell_type": "code",
      "source": [
        "# Q30. Write a code to convert the list of strings into set\n",
        "\n",
        "lis=set([\"mohit\",\"apple\",\"banana\",\"khushi\", \"rohit\", \"akash\", \"kiwi\"])\n",
        "lis"
      ],
      "metadata": {
        "colab": {
          "base_uri": "https://localhost:8080/"
        },
        "id": "eSUOpWKpVT7n",
        "outputId": "522d1cc0-f7bf-4baf-dc2c-b1f61674bf8e"
      },
      "execution_count": null,
      "outputs": [
        {
          "output_type": "execute_result",
          "data": {
            "text/plain": [
              "{'akash', 'apple', 'banana', 'khushi', 'kiwi', 'mohit', 'rohit'}"
            ]
          },
          "metadata": {},
          "execution_count": 76
        }
      ]
    },
    {
      "cell_type": "code",
      "source": [],
      "metadata": {
        "id": "awo1OzVXa2Vm"
      },
      "execution_count": null,
      "outputs": []
    }
  ]
}